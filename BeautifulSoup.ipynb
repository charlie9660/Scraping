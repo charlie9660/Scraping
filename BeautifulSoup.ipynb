{
 "cells": [
  {
   "cell_type": "code",
   "execution_count": 1,
   "metadata": {
    "collapsed": true
   },
   "outputs": [],
   "source": [
    "from bs4 import BeautifulSoup\n",
    "import urllib\n",
    "import pandas as pd\n",
    "import numpy as np\n",
    "\n",
    "main_url = \"http://www.boattrader.com\" #/listing/2006-sea-ray-320-sundancer-103069603/"
   ]
  },
  {
   "cell_type": "code",
   "execution_count": 2,
   "metadata": {},
   "outputs": [],
   "source": [
    "\n",
    "def string_check(value):\n",
    "    if value is None:\n",
    "        return \"\" \n",
    "    return str(value.text)\n",
    "\n",
    "def from_table(soup,name):\n",
    "    \n",
    "    data = list()\n",
    "    #columns = ['Class','Category']#'Year','Make','Length','Propulsion','Type','Hull Material','Fuel Type','Location']\n",
    "    if(soup.find('div',{'id':name}) is not None):\n",
    "        table = soup.find('div',{'id':name}).find('table')\n",
    "        rows = table.find_all('tr')\n",
    "        for row in rows:\n",
    "            if(name =='measurements'):\n",
    "                index = string_check(row.find('dt'))\n",
    "                val  = string_check(row.find('dd')) \n",
    "            else:\n",
    "                index = string_check(row.find('th'))\n",
    "                val  = string_check(row.find('td'))\n",
    "            \n",
    "            #if(index in columns):\n",
    "            data.append((index,val))\n",
    "            \n",
    "    return data\n",
    "        \n",
    "\n",
    "def getsoup(url):\n",
    "    r = urllib.urlopen(url).read()\n",
    "    soup = BeautifulSoup(r,'html.parser')\n",
    "    return soup\n",
    "\n",
    "def check_element(element):\n",
    "    return element if element is not None else \" \"\n",
    "\n",
    "\n",
    "def scrape_page(s):\n",
    "    \n",
    "    a = s.find(\"h1\",attrs={\"class\":\"bd-name\"})\n",
    "    b = s.find(\"div\",attrs={\"class\":\"bd-price-location\"})\n",
    "    data = []\n",
    "    df = pd.DataFrame()\n",
    "    if a is not None:\n",
    "        year =  str(check_element(a.find('span',{\"class\":\"bd-year\"})).get_text())\n",
    "        make =  str(check_element(a.find('span',{\"class\":\"bd-make\"})).get_text())\n",
    "        model = str(check_element(a.find('span',{\"class\":\"bd-model\"})).get_text())\n",
    "        data.append((\"year-primary\",year))\n",
    "        data.append((\"make-primary\",make))\n",
    "        data.append((\"model\",model))\n",
    "        \n",
    "    if b is not None:                \n",
    "        price = str(check_element(b.find('span',{\"class\":\"bd-price contact-toggle\"})).get_text()).split()[0]\n",
    "        data.append((\"price\",price))\n",
    "    #else:\n",
    "    #    data.append(\" \")\n",
    "    content = s.find('div',{'class':'detail-tbl'})\n",
    "    if content is not None:\n",
    "        data  = data + from_table(content,'boat-details')\n",
    "        #data  = data + from_table(content,'measurements')\n",
    "        #data  = data + from_table(content,'propulsion')\n",
    "        data  = data + from_table(content,'other-details')\n",
    "        #data = pd.DataFrame.from_records(data)\n",
    "        list1,list2 = zip(*data)\n",
    "        df  = pd.DataFrame(list(list2),index = (list(list1))).transpose()\n",
    "    print(df)\n",
    "    return df\n",
    "\n",
    "def scrape_full_page(url):\n",
    "    soup = getsoup(url)\n",
    "    a = soup.find_all(\"a\", attrs={\"data-reporting-click-listing-type\":\"standard listing\"})\n",
    "    links = [str(main_url+x['href']) for x in a]\n",
    "    data = pd.DataFrame()\n",
    "\n",
    "    for link in links:\n",
    "        s = getsoup(link)\n",
    "        data = pd.concat([data,scrape_page(s)], axis=0, ignore_index=True) \n",
    "    return data\n",
    "    \n",
    "    \n",
    "#     details = s.find('section',{\"id\":\"collapsible-content-areas\"}) \n",
    "#     details = s.find('section',{\"id\":\"collapsible-content-areas\"}) \n",
    "#     from_table(details,'boat-details')\n"
   ]
  },
  {
   "cell_type": "code",
   "execution_count": 3,
   "metadata": {},
   "outputs": [],
   "source": [
    "def run(zip,radius):\n",
    "    url = \"http://www.boattrader.com/search-results/NewOrUsed-any/Type-any/Category-all/Zip-\"+zip+\"/Radius-\"+radius+\"/Sort-Length:DESC\"\n",
    "    df = scrape_full_page(url)\n",
    "    soup = getsoup(url)\n",
    "    link = soup.find('a',{'class':'next'})\n",
    "    while link.find('href') is not None:\n",
    "        url = str(main_url+link['href'])\n",
    "        df = pd.concat([df,scrape_full_page(url)], axis=0, ignore_index=True) \n",
    "        link = soup.find('a',{'class':'next'})\n",
    "    df.to_csv(zip+\"_\"+radius+\".csv\")\n",
    "#columns = ['Year','Make','Model','Price','Class','Category','Year1','Make1','Length','Propulsion','Type','Hull Material','Fuel Type','Location']\n",
    "#t = pd.DataFrame(df,columns = columns)\n"
   ]
  },
  {
   "cell_type": "code",
   "execution_count": 4,
   "metadata": {},
   "outputs": [
    {
     "name": "stdout",
     "output_type": "stream",
     "text": [
      "  year-primary     make-primary         model       price  Class  \\\n",
      "0         2012  Carolina Custom  60 Sportfish  $1,950,000  Power   \n",
      "\n",
      "             Category  Year             Make Length Propulsion Type  \\\n",
      "0   Convertible Boats  2012  Carolina Custom    60'    Twin Inboard   \n",
      "\n",
      "  Hull Material Fuel Type    Location  \n",
      "0     Composite    Diesel  Queens, NY  \n",
      "  year-primary make-primary      model     price  Class   Category  Year  \\\n",
      "0         2015  Chris-Craft  Launch 36  $499,000  Power   Bowrider  2015   \n",
      "\n",
      "          Make Length Propulsion Type Hull Material Fuel Type  \\\n",
      "0  Chris-Craft    36'           Other    Fiberglass    Diesel   \n",
      "\n",
      "          Location Hull Shape  \n",
      "0  Miami Beach, FL      Other  \n",
      "  year-primary make-primary       model    price  Class  \\\n",
      "0         2005       Larson  Cabrio 310  $54,900  Power   \n",
      "\n",
      "                 Category  Year    Make Length Propulsion Type Hull Material  \\\n",
      "0   Cruisers, Cuddy Cabin  2005  Larson    31'           Other    Fiberglass   \n",
      "\n",
      "  Fuel Type    Location    Hull Shape Hull Warranty  \n",
      "0       Gas  Queens, NY  Modified Vee        5 year  \n",
      "  year-primary make-primary                 model    price  Class  \\\n",
      "0         2001     Pro-Line  27 Walk Around (SRG)  $39,500  Power   \n",
      "\n",
      "       Category  Year      Make Length Propulsion Type Hull Material  \\\n",
      "0   Walkarounds  2001  Pro-Line    27'   Twin Outboard    Fiberglass   \n",
      "\n",
      "  Fuel Type         Location  \n",
      "0       Gas  Long Island, NY  \n"
     ]
    }
   ],
   "source": [
    "run('10044','1')"
   ]
  },
  {
   "cell_type": "code",
   "execution_count": null,
   "metadata": {
    "collapsed": true
   },
   "outputs": [],
   "source": []
  }
 ],
 "metadata": {
  "kernelspec": {
   "display_name": "Python 2",
   "language": "python",
   "name": "python2"
  },
  "language_info": {
   "codemirror_mode": {
    "name": "ipython",
    "version": 2
   },
   "file_extension": ".py",
   "mimetype": "text/x-python",
   "name": "python",
   "nbconvert_exporter": "python",
   "pygments_lexer": "ipython2",
   "version": "2.7.13"
  }
 },
 "nbformat": 4,
 "nbformat_minor": 2
}
